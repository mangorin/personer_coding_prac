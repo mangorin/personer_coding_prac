{
  "nbformat": 4,
  "nbformat_minor": 0,
  "metadata": {
    "colab": {
      "name": "python_prac_ww03.ipynb",
      "provenance": [],
      "collapsed_sections": []
    },
    "kernelspec": {
      "name": "python3",
      "display_name": "Python 3"
    }
  },
  "cells": [
    {
      "cell_type": "markdown",
      "metadata": {
        "id": "seee61hxOY8G"
      },
      "source": [
        "# **제3강 프로그램 구조 익숙해지기**"
      ]
    },
    {
      "cell_type": "markdown",
      "metadata": {
        "id": "Nl14pKgWRS4Q"
      },
      "source": [
        "# **1. 조건문의 이해**"
      ]
    },
    {
      "cell_type": "markdown",
      "metadata": {
        "id": "9-qm7cInFBOH"
      },
      "source": [
        "**if문 활용하기(양수 판별하기)**"
      ]
    },
    {
      "cell_type": "code",
      "metadata": {
        "id": "vXdMyLiHFD_2"
      },
      "source": [
        "# 문자열 입력을 받아 정수형(int)로 변환 후 변수 'num'에 대입\n",
        "num = int(input('판별할 숫자를 입력하세요 : '))  \n",
        "\n",
        "if num > 0 : # num에 저장된 수가 0보다 큰 양수일 때 아래 문구를 출력\n",
        "    print('입력한 숫자는 양수입니다.')"
      ],
      "execution_count": null,
      "outputs": []
    },
    {
      "cell_type": "markdown",
      "metadata": {
        "id": "5dtoKbHN8jDL"
      },
      "source": [
        "**if~ else~문 활용하기(양수/음수 판별하기)** "
      ]
    },
    {
      "cell_type": "code",
      "metadata": {
        "id": "c1wz6ADD7DpB"
      },
      "source": [
        "num = int(input('판별할 숫자를 입력하세요 : '))\n",
        "\n",
        "if num > 0 : # num에 저장된 수가 0보다 큰 양수일 때 아래 문구를 출력\n",
        "    print('입력한 숫자는 양수입니다.')\n",
        "else : # num이 0보다 크지 않은 경우 아래 문구를 출력\n",
        "    print('입력한 숫자는 0 또는 음수입니다')"
      ],
      "execution_count": null,
      "outputs": []
    },
    {
      "cell_type": "markdown",
      "metadata": {
        "id": "HMzlrwe0Fd1J"
      },
      "source": [
        "**if~ elif~ else~문 활용하기(양수/음수/0 판별하기)**"
      ]
    },
    {
      "cell_type": "code",
      "metadata": {
        "id": "a_elrJxbFj_4"
      },
      "source": [
        "num = int(input('판별할 숫자를 입력하세요 : '))\n",
        "\n",
        "if num > 0 : # num에 저장된 수가 0보다 큰 양수일 때 아래 문구 출력\n",
        "    print('입력한 숫자는 양수입니다.')\n",
        "elif num == 0 : # num 값이 0일 경우 아래 문구 출력\n",
        "    print('입력한 숫자는 0입니다')\n",
        "else : # 위의 조건들에 만족하지 않는 다른 경우 아래 문구 출력\n",
        "    print('입력한 숫자는 음수입니다')"
      ],
      "execution_count": null,
      "outputs": []
    },
    {
      "cell_type": "markdown",
      "metadata": {
        "id": "JOiEdXaTJkzs"
      },
      "source": [
        "**비교/논리 연산자 활용**"
      ]
    },
    {
      "cell_type": "code",
      "metadata": {
        "id": "ofO5C-XmJjQ_",
        "colab": {
          "base_uri": "https://localhost:8080/",
          "height": 161
        },
        "outputId": "622877fd-e145-4625-8521-5a4750ce2573"
      },
      "source": [
        "x = 11 # 변수 x에 11을 대입하여 선언\n",
        "y = 2 # 변수 y에 2를 대입하여 선언\n",
        "\n",
        "print(x > 10) # x 값이 10보다 크다면 True, 작다면 False를 출력\n",
        "print(y <= 5) # y 값이 5보다 작거나 같다면 True, 아니라면 False를 출력\n",
        "print(x + y == 14) # x + y가 14와 같다면 True, 아니라면 False를 출력\n",
        "print(x % 3 == 0) # x를 3으로 나누었을 때 나머지가 0이라면 True, 아니라면 False를 출력\n",
        "print(y % 3 != 0) # x를 3으로 나누었을 때 나머지가 0이 아니라면 True, 0이면 False를 출력\n",
        "print(x > 10 and y <= 5) # x가 10보다 크고 y가 5와 같거나 작으면 True, 아니면 False를 출력\n",
        "print(x > 10 and x + y == 14) # x가 10보다 크고 x와 y의 합이 14일 경우 True, 아니라면 False를 출력\n",
        "print(x > 10 or x + y == 14) # x가 10보다 크거나 x와 y의 합이 14일 경우 True, 아니라면 False를 출력"
      ],
      "execution_count": null,
      "outputs": [
        {
          "output_type": "stream",
          "text": [
            "True\n",
            "True\n",
            "False\n",
            "False\n",
            "True\n",
            "True\n",
            "False\n",
            "True\n"
          ],
          "name": "stdout"
        }
      ]
    },
    {
      "cell_type": "markdown",
      "metadata": {
        "id": "S3-jdxtBAcPo"
      },
      "source": [
        "# **2. 반복문의 이해(for)**"
      ]
    },
    {
      "cell_type": "markdown",
      "metadata": {
        "id": "WZk5Pl3xI92f"
      },
      "source": [
        "**for문의 문법**"
      ]
    },
    {
      "cell_type": "code",
      "metadata": {
        "id": "NH7UlEkNClss"
      },
      "source": [
        "print('Hello, world!') # 'Hello, world!'를 출력\n",
        "print('Hello, world!')\n",
        "print('Hello, world!')\n",
        "print('Hello, world!')\n",
        "print('Hello, world!')"
      ],
      "execution_count": null,
      "outputs": []
    },
    {
      "cell_type": "code",
      "metadata": {
        "id": "hRA8VALBAqSB"
      },
      "source": [
        "for i in range(5): # 아래 내용을 5번 반복\n",
        "\tprint('Hello, world!')"
      ],
      "execution_count": null,
      "outputs": []
    },
    {
      "cell_type": "markdown",
      "metadata": {
        "id": "c_TlLyX_I2WX"
      },
      "source": [
        "**for문의 활용(1~5까지의 합계 구하기)**"
      ]
    },
    {
      "cell_type": "code",
      "metadata": {
        "id": "OnnJyIs8FLMU"
      },
      "source": [
        "sum = 0 # sum에 0을 대입하여 선언\n",
        "\n",
        "\n",
        "for i in range(1, 6) : # 1~5를 순서대로 변수 i에 대입하며 반복\n",
        "    sum += i # sum = sum + i, 변수 sum에 i를 더한 후 갱신\n",
        "    print('i의 값 : %d, 합계 : %d' % (i, sum)) # 문구 출력 (%d에는 순서대로 i, sum 변수를 10진수로 출력)"
      ],
      "execution_count": null,
      "outputs": []
    },
    {
      "cell_type": "markdown",
      "metadata": {
        "id": "gKsVw5NZIxdJ"
      },
      "source": [
        "**range() 함수의 활용**"
      ]
    },
    {
      "cell_type": "code",
      "metadata": {
        "id": "zrjJgFHaGn1-",
        "colab": {
          "base_uri": "https://localhost:8080/",
          "height": 89
        },
        "outputId": "58c87888-638e-4e6a-bb47-cda05d2dbdf8"
      },
      "source": [
        "for i in range(5) : # 0~4를 순서대로 변수 i에 대입하며 아래 구문을 반복\n",
        "    print(i, end =' ') # i 값과 빈 칸(' ')을 출력\n",
        "print() # 줄바꿈(\\n)\n",
        "\n",
        "for i in range(1, 6) : # 1~5를 순서대로 변수 i에 대입하며 아래 구문 반복\n",
        "    print(i, end =' ')\n",
        "print()\n",
        "\n",
        "for i in range(1, 10, 2) : # 1부터 2씩 증가하며 10까지 순서대로 변수 i에 대입하며 반복\n",
        "    print(i, end =' ')\n",
        "print()\n",
        "\n",
        "for i in range(20, 0, -2) : # 20부터 2씩 감소하며 0까지 순서대로 변수 i에 대입하며 반복\n",
        "    print(i, end =' ')"
      ],
      "execution_count": null,
      "outputs": [
        {
          "output_type": "stream",
          "text": [
            "0 1 2 3 4 \n",
            "1 2 3 4 5 \n",
            "1 3 5 7 9 \n",
            "20 18 16 14 12 10 8 6 4 2 "
          ],
          "name": "stdout"
        }
      ]
    },
    {
      "cell_type": "markdown",
      "metadata": {
        "id": "gnhDi5l4IoVB"
      },
      "source": [
        "**4의 배수의 합계**"
      ]
    },
    {
      "cell_type": "code",
      "metadata": {
        "id": "p8otAxvDIi-M",
        "colab": {
          "base_uri": "https://localhost:8080/"
        },
        "outputId": "e0d872d8-15b2-4a2a-f3ad-bc5d6ce40245"
      },
      "source": [
        "sum = 0\n",
        "for i in range(1, 51) : # 1~50 반복\n",
        "    if i%4 == 0 : # 변수 i 값이 4로 나누어 떨어질 때\n",
        "        print('%d' % i, end = ' ')  # i값과 빈 칸(' ') 출력\n",
        "        sum += i # sum = sum + i, sum에 i값을 더한 후 갱신\n",
        "print('\\n') # 줄 바꿈\n",
        "print('[1~50에서 4의 배수의 합계] : %d' % sum)"
      ],
      "execution_count": 1,
      "outputs": [
        {
          "output_type": "stream",
          "name": "stdout",
          "text": [
            "4 8 12 16 20 24 28 32 36 40 44 48 \n",
            "\n",
            "[1~50에서 4의 배수의 합계] : 312\n"
          ]
        }
      ]
    },
    {
      "cell_type": "markdown",
      "metadata": {
        "id": "d1S9qP-HLgww"
      },
      "source": [
        "**문자열 다루기**"
      ]
    },
    {
      "cell_type": "code",
      "metadata": {
        "id": "QpoS3NTeLj3k"
      },
      "source": [
        "word = input('세로로 출력할 문장을 입력하세요 : ') \n",
        "\n",
        "for x in word : # word 문자열의 문자를 순서대로 x에 대입하며 반복\n",
        "    print(x) # x 출력\n"
      ],
      "execution_count": null,
      "outputs": []
    },
    {
      "cell_type": "markdown",
      "metadata": {
        "id": "CyPeDO00lFDd"
      },
      "source": [
        "**이중 for문(구구단 출력하기)**"
      ]
    },
    {
      "cell_type": "code",
      "metadata": {
        "id": "IFCwUkXBN0bU"
      },
      "source": [
        "for i in range(2,10): # 첫번째 for문: 2~9를 순서대로 변수 i에 대입하며 반복\n",
        "  for j in range(1,10): # 두번째 for문: 1~9를 순서대로 변수 j에 대입하며 반복\n",
        "    print(i*j, end=' ') # i*j와 빈 칸(' ') 출력\n",
        "  print('') # 줄 바꿈('\\n')"
      ],
      "execution_count": null,
      "outputs": []
    },
    {
      "cell_type": "markdown",
      "metadata": {
        "id": "EVd8fb_IMtIQ"
      },
      "source": [
        "# **3. 반복문의 이해(while)**"
      ]
    },
    {
      "cell_type": "markdown",
      "metadata": {
        "id": "ZLXCFLczMfze"
      },
      "source": [
        "**열번 찍어 안넘어가는 나무 없다**"
      ]
    },
    {
      "cell_type": "code",
      "metadata": {
        "id": "LEM1vN3yo5tK",
        "colab": {
          "base_uri": "https://localhost:8080/",
          "height": 215
        },
        "outputId": "aa9cd723-7fa5-40e9-ccd9-5ac057b72f99"
      },
      "source": [
        "tree = 0\n",
        "while tree < 10: # tree가 10보다 작은 경우 계속 반복\n",
        "\ttree = tree +1 # tree에 1을 더하여 갱신\n",
        "\tprint(\"나무를 %d번 찍었습니다.\" % tree)\n",
        "\tif tree == 10: # tree의 값이 10일 때 아래 문구 출력\n",
        "\t\tprint(\"나무 넘어갑니다.\")"
      ],
      "execution_count": null,
      "outputs": [
        {
          "output_type": "stream",
          "text": [
            "나무를 1번 찍었습니다.\n",
            "나무를 2번 찍었습니다.\n",
            "나무를 3번 찍었습니다.\n",
            "나무를 4번 찍었습니다.\n",
            "나무를 5번 찍었습니다.\n",
            "나무를 6번 찍었습니다.\n",
            "나무를 7번 찍었습니다.\n",
            "나무를 8번 찍었습니다.\n",
            "나무를 9번 찍었습니다.\n",
            "나무를 10번 찍었습니다.\n",
            "나무 넘어갑니다.\n"
          ],
          "name": "stdout"
        }
      ]
    },
    {
      "cell_type": "markdown",
      "metadata": {
        "id": "0IDf3cplMjSg"
      },
      "source": [
        "**1~10까지의 합계**"
      ]
    },
    {
      "cell_type": "code",
      "metadata": {
        "id": "bg_OBTtJL-_H"
      },
      "source": [
        "sum = 0\n",
        "i = 1\n",
        "while i <= 10 : # i가 10과 같거나 작으면 계속 반복\n",
        "    sum += i # sum에 i를 더하여 갱신\n",
        "    print('i의 값 : %d => 합계 : %d' % (i, sum))\n",
        "    i += 1 # i = i+1"
      ],
      "execution_count": null,
      "outputs": []
    },
    {
      "cell_type": "markdown",
      "metadata": {
        "id": "aV-PBL7QPd0X"
      },
      "source": [
        "**break문(무한루프 빠져나가기)**"
      ]
    },
    {
      "cell_type": "code",
      "metadata": {
        "id": "ln_aR9f7Pmxl"
      },
      "source": [
        "i = 0\n",
        "while True:    # 무한 반복문\n",
        "    print(i)\n",
        "    i += 1          \n",
        "    if i == 50:    # i가 50일 때 \n",
        "        break      # 반복문 종료"
      ],
      "execution_count": null,
      "outputs": []
    },
    {
      "cell_type": "markdown",
      "metadata": {
        "id": "6JetYBhcM3vT"
      },
      "source": [
        "**이번 강의도 수고 많으셨습니다. 감사합니다.**"
      ]
    }
  ]
}